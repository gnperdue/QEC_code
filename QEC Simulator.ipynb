{
 "cells": [
  {
   "cell_type": "markdown",
   "id": "3c4d9ec8",
   "metadata": {},
   "source": [
    "# Welcome to the QEC Simulator! \n",
    "## Please run the cell bellow to get started."
   ]
  },
  {
   "cell_type": "code",
   "execution_count": null,
   "id": "82a6abe2",
   "metadata": {},
   "outputs": [],
   "source": [
    "import qec_simulation as qec"
   ]
  },
  {
   "cell_type": "code",
   "execution_count": null,
   "id": "6a6414ac",
   "metadata": {
    "scrolled": true
   },
   "outputs": [],
   "source": [
    "qec.run_sim()"
   ]
  }
 ],
 "metadata": {
  "kernelspec": {
   "display_name": "Python 3 (ipykernel)",
   "language": "python",
   "name": "python3"
  },
  "language_info": {
   "codemirror_mode": {
    "name": "ipython",
    "version": 3
   },
   "file_extension": ".py",
   "mimetype": "text/x-python",
   "name": "python",
   "nbconvert_exporter": "python",
   "pygments_lexer": "ipython3",
   "version": "3.10.7"
  }
 },
 "nbformat": 4,
 "nbformat_minor": 5
}
