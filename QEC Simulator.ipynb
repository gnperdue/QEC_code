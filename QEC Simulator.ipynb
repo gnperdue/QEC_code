{
 "cells": [
  {
   "cell_type": "markdown",
   "id": "3c4d9ec8",
   "metadata": {},
   "source": [
    "# Welcome to the QEC Simulator! \n",
    "## Please run the cell bellow to get started."
   ]
  },
  {
   "cell_type": "code",
   "execution_count": 1,
   "id": "82a6abe2",
   "metadata": {},
   "outputs": [
    {
     "ename": "ModuleNotFoundError",
     "evalue": "No module named 'tabulate'",
     "output_type": "error",
     "traceback": [
      "\u001b[0;31m---------------------------------------------------------------------------\u001b[0m",
      "\u001b[0;31mModuleNotFoundError\u001b[0m                       Traceback (most recent call last)",
      "\u001b[0;32m/var/folders/kh/vlzz_vls6tl_09143dtw12mc0000gp/T/ipykernel_61613/3648038530.py\u001b[0m in \u001b[0;36m<module>\u001b[0;34m\u001b[0m\n\u001b[0;32m----> 1\u001b[0;31m \u001b[0;32mimport\u001b[0m \u001b[0mqec_simulation\u001b[0m \u001b[0;32mas\u001b[0m \u001b[0mqec\u001b[0m\u001b[0;34m\u001b[0m\u001b[0;34m\u001b[0m\u001b[0m\n\u001b[0m",
      "\u001b[0;32m~/Dropbox/Programming/Programming/Quantum/QEC_code/qec_simulation.py\u001b[0m in \u001b[0;36m<module>\u001b[0;34m\u001b[0m\n\u001b[1;32m     26\u001b[0m \u001b[0;32mfrom\u001b[0m \u001b[0mdata_management_and_analysis\u001b[0m\u001b[0;34m.\u001b[0m\u001b[0mdatamanagement\u001b[0m \u001b[0;32mimport\u001b[0m \u001b[0;34m*\u001b[0m\u001b[0;34m\u001b[0m\u001b[0;34m\u001b[0m\u001b[0m\n\u001b[1;32m     27\u001b[0m \u001b[0;32mfrom\u001b[0m \u001b[0mdata_management_and_analysis\u001b[0m\u001b[0;34m.\u001b[0m\u001b[0mdataanalysis\u001b[0m \u001b[0;32mimport\u001b[0m \u001b[0;34m*\u001b[0m\u001b[0;34m\u001b[0m\u001b[0;34m\u001b[0m\u001b[0m\n\u001b[0;32m---> 28\u001b[0;31m \u001b[0;32mfrom\u001b[0m \u001b[0mtabulate\u001b[0m \u001b[0;32mimport\u001b[0m \u001b[0mtabulate\u001b[0m\u001b[0;34m\u001b[0m\u001b[0;34m\u001b[0m\u001b[0m\n\u001b[0m\u001b[1;32m     29\u001b[0m \u001b[0;32mimport\u001b[0m \u001b[0mos\u001b[0m\u001b[0;34m\u001b[0m\u001b[0;34m\u001b[0m\u001b[0m\n\u001b[1;32m     30\u001b[0m \u001b[0;34m\u001b[0m\u001b[0m\n",
      "\u001b[0;31mModuleNotFoundError\u001b[0m: No module named 'tabulate'"
     ]
    }
   ],
   "source": [
    "import qec_simulation as qec"
   ]
  },
  {
   "cell_type": "code",
   "execution_count": null,
   "id": "6a6414ac",
   "metadata": {
    "scrolled": false
   },
   "outputs": [],
   "source": [
    "qec.run_sim()"
   ]
  },
  {
   "cell_type": "markdown",
   "id": "3e905d97",
   "metadata": {},
   "source": [
    "### If you have a data file you can just output the various sampling plots using the functions below:\n",
    "\n",
    "Just make sure to rename the function to the correct circuit you were running (i.e. qec.steane_plot_failure)"
   ]
  },
  {
   "cell_type": "code",
   "execution_count": null,
   "id": "4b0f0599",
   "metadata": {
    "scrolled": true
   },
   "outputs": [],
   "source": [
    "qec.three_qubit_plot_failure('data/three_qubit_sample/00001_three_qubit_sample.h5')"
   ]
  },
  {
   "cell_type": "code",
   "execution_count": null,
   "id": "2acd3e67",
   "metadata": {},
   "outputs": [],
   "source": [
    "qec.three_qubit_plot_t1('data/three_qubit_sample/00001_three_qubit_sample.h5')"
   ]
  }
 ],
 "metadata": {
  "kernelspec": {
   "display_name": "Python 3 (ipykernel)",
   "language": "python",
   "name": "python3"
  },
  "language_info": {
   "codemirror_mode": {
    "name": "ipython",
    "version": 3
   },
   "file_extension": ".py",
   "mimetype": "text/x-python",
   "name": "python",
   "nbconvert_exporter": "python",
   "pygments_lexer": "ipython3",
   "version": "3.9.7"
  }
 },
 "nbformat": 4,
 "nbformat_minor": 5
}
